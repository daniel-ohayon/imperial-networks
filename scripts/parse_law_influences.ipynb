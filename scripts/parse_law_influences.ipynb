{
 "cells": [
  {
   "cell_type": "markdown",
   "metadata": {},
   "source": [
    "## Convert from XLSX -> Pandas dataframe"
   ]
  },
  {
   "cell_type": "code",
   "execution_count": 109,
   "metadata": {},
   "outputs": [
    {
     "name": "stdout",
     "output_type": "stream",
     "text": [
      "[WARNING] Found dangling nodes: {39, 40, 41, 43, 20}\n"
     ]
    }
   ],
   "source": [
    "from openpyxl import load_workbook\n",
    "from pandas import DataFrame\n",
    "import json\n",
    "import subprocess\n",
    "\n",
    "import numpy as np\n",
    "from openpyxl import load_workbook\n",
    "from pandas import DataFrame\n",
    "\n",
    "# MISSING_VALUE = \"NA\"\n",
    "data = load_workbook('laws-influences.xlsx').active.values\n",
    "header = next(data)\n",
    "df = DataFrame(data, columns=header)\n",
    "df['Origin ID'] = df['Origin ID'].astype(\"Int64\")\n",
    "# df.fillna(value=MISSING_VALUE, inplace=True)\n",
    "# df = df.applymap(lambda v: v.strip() if type(v) is str else v)\n",
    "df.set_index('Law ID', inplace=True, verify_integrity=True)\n",
    "\n",
    "# Check for dangling nodes (no child & no parent)\n",
    "roots = set(df[df['Origin ID'].isnull()].index)\n",
    "leaf_nodes = set(df.index) - set(df['Origin ID'])\n",
    "dangling = roots & leaf_nodes\n",
    "if len(dangling) > 0:\n",
    "    print(f\"[WARNING] Found dangling nodes: {dangling}\")"
   ]
  },
  {
   "cell_type": "code",
   "execution_count": 103,
   "metadata": {},
   "outputs": [
    {
     "data": {
      "text/plain": [
       "{1,\n",
       " 2,\n",
       " 3,\n",
       " 4,\n",
       " 5,\n",
       " 6,\n",
       " 7,\n",
       " 8,\n",
       " 9,\n",
       " 10,\n",
       " 11,\n",
       " 12,\n",
       " 13,\n",
       " 14,\n",
       " 15,\n",
       " 16,\n",
       " 17,\n",
       " 18,\n",
       " 19,\n",
       " 20,\n",
       " 21,\n",
       " 22,\n",
       " 23,\n",
       " 24,\n",
       " 25,\n",
       " 26,\n",
       " 27,\n",
       " 28,\n",
       " 29,\n",
       " 30,\n",
       " 31,\n",
       " 32,\n",
       " 33,\n",
       " 34,\n",
       " 35,\n",
       " 36,\n",
       " 37,\n",
       " 38,\n",
       " 39,\n",
       " 40,\n",
       " 41,\n",
       " 42,\n",
       " 43,\n",
       " 44,\n",
       " 45,\n",
       " 46,\n",
       " 47,\n",
       " 48,\n",
       " 49,\n",
       " 50,\n",
       " 51,\n",
       " 52,\n",
       " 53,\n",
       " 54,\n",
       " 55,\n",
       " 56,\n",
       " 57,\n",
       " 58,\n",
       " 59,\n",
       " 60,\n",
       " 61,\n",
       " 62,\n",
       " 63,\n",
       " 64,\n",
       " 65,\n",
       " 66,\n",
       " 67,\n",
       " 68,\n",
       " 69}"
      ]
     },
     "execution_count": 103,
     "metadata": {},
     "output_type": "execute_result"
    }
   ],
   "source": [
    "set(df.index)"
   ]
  },
  {
   "cell_type": "code",
   "execution_count": 101,
   "metadata": {},
   "outputs": [
    {
     "data": {
      "text/plain": [
       "Connection with Previous Law\n",
       "Explicit Duplication     9\n",
       "Identical                6\n",
       "Similar Content         33\n",
       "Name: Origin ID, dtype: Int64"
      ]
     },
     "execution_count": 101,
     "metadata": {},
     "output_type": "execute_result"
    }
   ],
   "source": [
    "# How many laws repeated another one word for word?\n",
    "# TODO Origin ID is missing entries\n",
    "df[\n",
    "    ~df['Law of Origin'].isnull() \n",
    "].groupby('Connection with Previous Law').aggregate(np.size)['Origin ID']"
   ]
  },
  {
   "cell_type": "code",
   "execution_count": null,
   "metadata": {},
   "outputs": [],
   "source": [
    "# How many laws repeated another one word for word?\n",
    "df[\n",
    "    ~df['Origin ID'].\n",
    "].groupby('Connection with Previous Law').aggregate(np.size)['Origin ID']"
   ]
  },
  {
   "cell_type": "code",
   "execution_count": 92,
   "metadata": {},
   "outputs": [
    {
     "data": {
      "text/plain": [
       "Location_origin                Location                     \n",
       "Caribbean                      Guyana                           2\n",
       "                               India                            3\n",
       "                               Isle Bourbon & Isle of France    5\n",
       "                               Louisiana                        1\n",
       "                               Madagascar                       2\n",
       "                               New France                       2\n",
       "                               Senegal                          2\n",
       "                               Senegal                          1\n",
       "India                          Isle Bourbon & Isle of France    1\n",
       "                               Louisiana                        1\n",
       "Isle Bourbon & Isle of France  Caribbean                        1\n",
       "                               India                            1\n",
       "                               Louisiana                        1\n",
       "Louisiana                      Caribbean                        3\n",
       "                               Guyana                           2\n",
       "                               India                            2\n",
       "                               Isle Bourbon & Isle of France    1\n",
       "                               New France                       1\n",
       "Madagascar                     India                            1\n",
       "                               Madagascar                       1\n",
       "                               Senegal                          1\n",
       "New France                     Caribbean                        1\n",
       "                               Guyana                           1\n",
       "                               India                            1\n",
       "                               Louisiana                        3\n",
       "                               Madagascar                       1\n",
       "                               Madagascar                       1\n",
       "Senegal                        Guyana                           1\n",
       "Name: Name of the Law, dtype: int64"
      ]
     },
     "execution_count": 92,
     "metadata": {},
     "output_type": "execute_result"
    }
   ],
   "source": [
    "# How many connections crossed the Indian Ocean/Atlantic boundary?\n",
    "df[~df['Origin ID'].isnull()].join(\n",
    "    df, on='Origin ID', rsuffix=\"_origin\"\n",
    ").groupby(['Location_origin', 'Location']).aggregate(np.size)['Name of the Law']"
   ]
  },
  {
   "cell_type": "code",
   "execution_count": 95,
   "metadata": {
    "scrolled": true
   },
   "outputs": [
    {
     "name": "stdout",
     "output_type": "stream",
     "text": [
      "20 influences are crossing the IO/Atlantic boundary\n"
     ]
    }
   ],
   "source": [
    "total_crossing = 3+5+2+1+1+1+2+1+1+1+1+1\n",
    "print(f\"{total_crossing} influences are crossing the IO/Atlantic boundary\")"
   ]
  }
 ],
 "metadata": {
  "kernelspec": {
   "display_name": "Python 3",
   "language": "python",
   "name": "python3"
  },
  "language_info": {
   "codemirror_mode": {
    "name": "ipython",
    "version": 3
   },
   "file_extension": ".py",
   "mimetype": "text/x-python",
   "name": "python",
   "nbconvert_exporter": "python",
   "pygments_lexer": "ipython3",
   "version": "3.6.4"
  }
 },
 "nbformat": 4,
 "nbformat_minor": 2
}
